{
 "cells": [
  {
   "cell_type": "markdown",
   "id": "7e3804b1",
   "metadata": {},
   "source": [
    "## Imported Modules"
   ]
  },
  {
   "cell_type": "code",
   "execution_count": 1,
   "id": "3fec27f4",
   "metadata": {},
   "outputs": [],
   "source": [
    "import tensorflow as tf\n",
    "from keras import metrics\n",
    "from tensorflow.keras.preprocessing.image import ImageDataGenerator, load_img, img_to_array\n",
    "from tensorflow.keras.applications.resnet50 import ResNet50, preprocess_input\n",
    "from tensorflow.keras import Model\n",
    "from tensorflow.keras.models import load_model\n",
    "from tensorflow.keras.layers import Input, Flatten, Dense, Dropout, GlobalAveragePooling2D\n",
    "\n",
    "import pandas as pd\n",
    "import numpy as np\n",
    "import os\n",
    "import shutil\n",
    "import pathlib\n",
    "from glob import glob\n",
    "\n",
    "import requests \n",
    "from bs4 import BeautifulSoup\n",
    "import urllib.request\n",
    "\n",
    "import PIL\n",
    "from PIL import Image\n",
    "\n",
    "from sklearn.model_selection import train_test_split\n",
    "\n",
    "import matplotlib.pyplot as plt\n",
    "%matplotlib inline"
   ]
  },
  {
   "cell_type": "markdown",
   "id": "54faef6f",
   "metadata": {},
   "source": [
    "## Global Variables"
   ]
  },
  {
   "cell_type": "code",
   "execution_count": 2,
   "id": "e663ae20",
   "metadata": {},
   "outputs": [],
   "source": [
    "NUM_CLASSES = 2\n",
    "NUM_EPOCHS = 15\n",
    "BATCH_SIZE = 32\n",
    "IMG_SIZE = (224,224) # Expected size for ResNet50\n",
    "LR = 0.1"
   ]
  },
  {
   "cell_type": "markdown",
   "id": "bb2d381a",
   "metadata": {},
   "source": [
    "## Load Lucy Images"
   ]
  },
  {
   "cell_type": "code",
   "execution_count": 122,
   "id": "649c7804",
   "metadata": {},
   "outputs": [],
   "source": [
    "# Load and convert images to .jpeg\n",
    "\n",
    "img_dir = \"/Users/johngalvin/Desktop/GitHub/Tensorflow/workspace/Lucy-Classification/images/lucy/\"\n",
    "\n",
    "for file in os.listdir(img_dir):\n",
    "    if file.endswith(\".JPG\") or file.endswith(\".jpg\"):\n",
    "        img = Image.open(img_dir + file)\n",
    "        file_name, file_ext = os.path.splitext(file)\n",
    "        new_name = file_name + \".jpeg\"\n",
    "        img.save(img_dir + new_name)"
   ]
  },
  {
   "cell_type": "code",
   "execution_count": 123,
   "id": "0d5a74f0",
   "metadata": {},
   "outputs": [],
   "source": [
    "# Delete the .JPG and.jpg files\n",
    "\n",
    "for file in os.listdir(img_dir):\n",
    "    if file.endswith(\".JPG\") or file.endswith(\".jpg\"):\n",
    "        path_to_file = os.path.join(\"/Users/johngalvin/Desktop/GitHub/Tensorflow/workspace/Lucy-Classification/images/lucy/\", file)\n",
    "        os.remove(path_to_file)"
   ]
  },
  {
   "cell_type": "markdown",
   "id": "83e03e6a",
   "metadata": {},
   "source": [
    "## Download Other Images (Not Lucy)"
   ]
  },
  {
   "cell_type": "code",
   "execution_count": 124,
   "id": "5e377976",
   "metadata": {},
   "outputs": [],
   "source": [
    "# # Function to grab image urls from a url\n",
    "\n",
    "# def getdata(url): \n",
    "#     r = requests.get(url) \n",
    "#     return r.text \n",
    "    \n",
    "# htmldata = getdata(\"https://unsplash.com/s/photos/french-bulldog\") \n",
    "# soup = BeautifulSoup(htmldata, 'html.parser')\n",
    "# img_list = [item['src'] for item in soup.find_all(\"img\")]"
   ]
  },
  {
   "cell_type": "code",
   "execution_count": 125,
   "id": "cdcd60e5",
   "metadata": {},
   "outputs": [],
   "source": [
    "# # Save the image files\n",
    "\n",
    "# i = 0\n",
    "# while i < len(img_list):\n",
    "#     f_name = \"/Users/johngalvin/Desktop/GitHub/Tensorflow/workspace/Lucy-Classification/images/other/\" + str(i) + \".jpeg\"\n",
    "#     urllib.request.urlretrieve(img_list[i], f_name)\n",
    "#     i+=1"
   ]
  },
  {
   "cell_type": "markdown",
   "id": "1daa1721",
   "metadata": {},
   "source": [
    "## Train / Test Split"
   ]
  },
  {
   "cell_type": "markdown",
   "id": "7b62ec60",
   "metadata": {},
   "source": [
    "### Lucy Images"
   ]
  },
  {
   "cell_type": "code",
   "execution_count": 136,
   "id": "3180a115",
   "metadata": {},
   "outputs": [],
   "source": [
    "# Generate a list of the image files\n",
    "lucy_image_files = glob(\"../images/lucy/*.jpeg\")\n",
    "\n",
    "# Strip the extensions\n",
    "lucy_image_names = [name.replace(\".jpeg\",\"\") for name in lucy_image_files]\n",
    "\n",
    "# Split into train and test\n",
    "lucy_train_names, lucy_test_names = train_test_split(lucy_image_names, test_size=0.2)\n",
    "\n",
    "def batch_move_files(file_list, source_path, destination_path):\n",
    "    \"\"\"Moves jpeg files to destination path from source path\"\"\"\n",
    "    \n",
    "    for file in file_list:\n",
    "        image = file + \".jpeg\"\n",
    "        shutil.move(image, destination_path)\n",
    "    \n",
    "    return\n",
    "\n",
    "# Move the files - assumes empty train and test directories at the images directory level\n",
    "\n",
    "source_dir = \"../images/lucy/\"\n",
    "val_dir = \"../images/val/lucy/\"\n",
    "train_dir = \"../images/train/lucy/\"\n",
    "batch_move_files(lucy_test_names, source_dir, val_dir)\n",
    "batch_move_files(lucy_train_names, source_dir, train_dir)"
   ]
  },
  {
   "cell_type": "markdown",
   "id": "b7d5674c",
   "metadata": {},
   "source": [
    "### Other Images"
   ]
  },
  {
   "cell_type": "code",
   "execution_count": 137,
   "id": "a93215a5",
   "metadata": {},
   "outputs": [],
   "source": [
    "# Generate a list of the image files\n",
    "other_image_files = glob(\"../images/other/*.jpeg\")\n",
    "\n",
    "# Strip the extensions\n",
    "other_image_names = [name.replace(\".jpeg\",\"\") for name in other_image_files]\n",
    "\n",
    "# Split into train and test\n",
    "other_train_names, other_test_names = train_test_split(other_image_names, test_size=0.2)\n",
    "\n",
    "# Move the files - assumes empty train and test directories at the images directory level\n",
    "\n",
    "source_dir = \"../images/other/\"\n",
    "val_dir = \"../images/val/other/\"\n",
    "train_dir = \"../images/train/other/\"\n",
    "batch_move_files(other_test_names, source_dir, val_dir)\n",
    "batch_move_files(other_train_names, source_dir, train_dir)"
   ]
  },
  {
   "cell_type": "markdown",
   "id": "08e0817c",
   "metadata": {},
   "source": [
    "## Image Augmentation"
   ]
  },
  {
   "cell_type": "code",
   "execution_count": 3,
   "id": "f3c76a5f",
   "metadata": {},
   "outputs": [],
   "source": [
    "# Create generators and preprocess input\n",
    "\n",
    "train_datagen = ImageDataGenerator(preprocessing_function=preprocess_input,\n",
    "                                   rotation_range=20,\n",
    "                                   width_shift_range=0.2,\n",
    "                                   height_shift_range=0.2,\n",
    "                                   zoom_range=0.2)\n",
    "\n",
    "val_datagen = ImageDataGenerator(preprocessing_function=preprocess_input)"
   ]
  },
  {
   "cell_type": "code",
   "execution_count": 4,
   "id": "847be9cd",
   "metadata": {},
   "outputs": [
    {
     "name": "stdout",
     "output_type": "stream",
     "text": [
      "Found 273 images belonging to 2 classes.\n",
      "Found 61 images belonging to 2 classes.\n"
     ]
    }
   ],
   "source": [
    "# Use the generators\n",
    "\n",
    "train_generator = train_datagen.flow_from_directory(\"../images/train/\",\n",
    "                                                    target_size=IMG_SIZE,\n",
    "                                                    batch_size=BATCH_SIZE,\n",
    "                                                    shuffle=True,\n",
    "                                                    seed=42,\n",
    "                                                    class_mode=\"categorical\")\n",
    "\n",
    "val_generator = val_datagen.flow_from_directory(\"../images/val/\",\n",
    "                                                    target_size=IMG_SIZE,\n",
    "                                                    batch_size=BATCH_SIZE,\n",
    "                                                    shuffle=False,\n",
    "                                                    class_mode=\"categorical\")"
   ]
  },
  {
   "cell_type": "markdown",
   "id": "bb5ab3da",
   "metadata": {},
   "source": [
    "## Define and Train Model"
   ]
  },
  {
   "cell_type": "code",
<<<<<<< HEAD
   "execution_count": 5,
=======
   "execution_count": 15,
>>>>>>> 53d8a6e771ee8004e5b3b853fbd1c7e34a6ee573
   "id": "a57ddb60",
   "metadata": {},
   "outputs": [
    {
     "name": "stdout",
     "output_type": "stream",
     "text": [
      "Metal device set to: Apple M1\n"
     ]
    },
    {
     "name": "stderr",
     "output_type": "stream",
     "text": [
      "2022-08-05 15:36:13.437711: I tensorflow/core/common_runtime/pluggable_device/pluggable_device_factory.cc:305] Could not identify NUMA node of platform GPU ID 0, defaulting to 0. Your kernel may not have been built with NUMA support.\n",
      "2022-08-05 15:36:13.438506: I tensorflow/core/common_runtime/pluggable_device/pluggable_device_factory.cc:271] Created TensorFlow device (/job:localhost/replica:0/task:0/device:GPU:0 with 0 MB memory) -> physical PluggableDevice (device: 0, name: METAL, pci bus id: <undefined>)\n"
     ]
    }
   ],
   "source": [
    "# Instantiate base model from ResNet50 and exclude head\n",
    "\n",
    "tf.keras.backend.clear_session()\n",
    "\n",
    "base_model = ResNet50(include_top=False,\n",
    "                      input_shape=IMG_SIZE + (3,),\n",
    "                      weights=\"imagenet\")\n",
    "\n",
    "# Freeze all layers\n",
    "\n",
    "for layer in base_model.layers[:]:\n",
    "    layer.trainable = False\n",
    "    \n",
    "# Customize the model by adding Dense layers\n",
    "# Include Dropout and Normalization to combat overfitting\n",
    "\n",
    "model = tf.keras.models.Sequential()\n",
    "model.add(tf.keras.layers.Resizing(224,224))\n",
    "model.add(base_model)\n",
    "model.add(tf.keras.layers.Flatten())\n",
    "model.add(tf.keras.layers.Dense(512, activation=\"relu\"))\n",
    "model.add(tf.keras.layers.Dropout(0.3))\n",
    "model.add(tf.keras.layers.BatchNormalization())\n",
    "model.add(tf.keras.layers.Dense(256, activation=\"relu\"))\n",
    "model.add(tf.keras.layers.Dropout(0.3))\n",
    "model.add(tf.keras.layers.BatchNormalization())\n",
    "model.add(tf.keras.layers.Dense(128, activation=\"relu\"))\n",
    "model.add(tf.keras.layers.Dropout(0.3))\n",
    "model.add(tf.keras.layers.BatchNormalization())\n",
    "model.add(tf.keras.layers.Dense(64, activation=\"relu\"))\n",
    "model.add(tf.keras.layers.Dropout(0.3))\n",
    "model.add(tf.keras.layers.BatchNormalization())\n",
    "model.add(tf.keras.layers.Dense(NUM_CLASSES, activation=\"softmax\"))\n",
    "\n",
    "# Compile model\n",
    "\n",
    "model.compile(loss=\"categorical_crossentropy\",\n",
    "              optimizer=tf.keras.optimizers.Adam(learning_rate=LR),\n",
    "              metrics=[\"acc\"])"
   ]
  },
  {
   "cell_type": "code",
<<<<<<< HEAD
   "execution_count": 6,
=======
   "execution_count": 16,
>>>>>>> 53d8a6e771ee8004e5b3b853fbd1c7e34a6ee573
   "id": "add07d32",
   "metadata": {},
   "outputs": [
    {
     "name": "stderr",
     "output_type": "stream",
     "text": [
      "2022-08-05 15:36:42.525916: W tensorflow/core/platform/profile_utils/cpu_utils.cc:128] Failed to get CPU frequency: 0 Hz\n"
     ]
    },
    {
     "name": "stdout",
     "output_type": "stream",
     "text": [
      "Epoch 1/15\n"
     ]
    },
    {
     "name": "stderr",
     "output_type": "stream",
     "text": [
<<<<<<< HEAD
      "2022-08-05 15:36:43.560006: I tensorflow/core/grappler/optimizers/custom_graph_optimizer_registry.cc:112] Plugin optimizer for device_type GPU is enabled.\n"
=======
      "2022-06-15 16:01:12.237655: I tensorflow/core/grappler/optimizers/custom_graph_optimizer_registry.cc:112] Plugin optimizer for device_type GPU is enabled.\n"
>>>>>>> 53d8a6e771ee8004e5b3b853fbd1c7e34a6ee573
     ]
    },
    {
     "name": "stdout",
     "output_type": "stream",
     "text": [
<<<<<<< HEAD
      "9/9 [==============================] - ETA: 0s - loss: 1.2925 - acc: 0.5495"
=======
      "9/9 [==============================] - ETA: 0s - loss: 1.2608 - acc: 0.5311"
>>>>>>> 53d8a6e771ee8004e5b3b853fbd1c7e34a6ee573
     ]
    },
    {
     "name": "stderr",
     "output_type": "stream",
     "text": [
<<<<<<< HEAD
      "2022-08-05 15:36:59.576935: I tensorflow/core/grappler/optimizers/custom_graph_optimizer_registry.cc:112] Plugin optimizer for device_type GPU is enabled.\n"
=======
      "2022-06-15 16:01:28.739336: I tensorflow/core/grappler/optimizers/custom_graph_optimizer_registry.cc:112] Plugin optimizer for device_type GPU is enabled.\n"
>>>>>>> 53d8a6e771ee8004e5b3b853fbd1c7e34a6ee573
     ]
    },
    {
     "name": "stdout",
     "output_type": "stream",
     "text": [
<<<<<<< HEAD
      "9/9 [==============================] - 20s 2s/step - loss: 1.2925 - acc: 0.5495 - val_loss: 287.3680 - val_acc: 0.5082\n",
      "Epoch 2/15\n",
      "9/9 [==============================] - 17s 2s/step - loss: 0.7335 - acc: 0.6117 - val_loss: 135.0384 - val_acc: 0.5410\n",
      "Epoch 3/15\n",
      "9/9 [==============================] - 16s 2s/step - loss: 0.5988 - acc: 0.7143 - val_loss: 43.3644 - val_acc: 0.5410\n",
      "Epoch 4/15\n",
      "9/9 [==============================] - 17s 2s/step - loss: 0.4614 - acc: 0.7839 - val_loss: 22.7668 - val_acc: 0.5574\n",
      "Epoch 5/15\n",
      "9/9 [==============================] - 16s 2s/step - loss: 0.3645 - acc: 0.8608 - val_loss: 5.6539 - val_acc: 0.7213\n",
      "Epoch 6/15\n",
      "9/9 [==============================] - 17s 2s/step - loss: 0.3187 - acc: 0.8828 - val_loss: 1.6013 - val_acc: 0.8033\n",
      "Epoch 7/15\n",
      "9/9 [==============================] - 17s 2s/step - loss: 0.2901 - acc: 0.8864 - val_loss: 0.8525 - val_acc: 0.8689\n",
      "Epoch 8/15\n",
      "9/9 [==============================] - 17s 2s/step - loss: 0.3015 - acc: 0.8828 - val_loss: 0.3692 - val_acc: 0.9344\n",
      "Epoch 9/15\n",
      "9/9 [==============================] - 17s 2s/step - loss: 0.2914 - acc: 0.8718 - val_loss: 0.1154 - val_acc: 0.9672\n",
      "Epoch 10/15\n",
      "9/9 [==============================] - 16s 2s/step - loss: 0.2081 - acc: 0.9084 - val_loss: 0.1449 - val_acc: 0.9672\n",
      "Epoch 11/15\n",
      "9/9 [==============================] - 16s 2s/step - loss: 0.1898 - acc: 0.9377 - val_loss: 0.3588 - val_acc: 0.9508\n",
      "Epoch 12/15\n",
      "9/9 [==============================] - 17s 2s/step - loss: 0.2026 - acc: 0.9158 - val_loss: 0.2085 - val_acc: 0.9672\n",
      "Epoch 13/15\n",
      "9/9 [==============================] - 17s 2s/step - loss: 0.1485 - acc: 0.9414 - val_loss: 0.3590 - val_acc: 0.9180\n",
      "Epoch 14/15\n",
      "9/9 [==============================] - 17s 2s/step - loss: 0.1364 - acc: 0.9487 - val_loss: 0.2403 - val_acc: 0.9672\n",
      "Epoch 15/15\n",
      "9/9 [==============================] - 17s 2s/step - loss: 0.1803 - acc: 0.9231 - val_loss: 0.1736 - val_acc: 0.9508\n"
=======
      "9/9 [==============================] - 21s 2s/step - loss: 1.2608 - acc: 0.5311 - val_loss: 732.3392 - val_acc: 0.5574\n",
      "Epoch 2/15\n",
      "9/9 [==============================] - 17s 2s/step - loss: 0.7677 - acc: 0.6154 - val_loss: 117.2024 - val_acc: 0.5082\n",
      "Epoch 3/15\n",
      "9/9 [==============================] - 17s 2s/step - loss: 0.6928 - acc: 0.6410 - val_loss: 64.6458 - val_acc: 0.5082\n",
      "Epoch 4/15\n",
      "9/9 [==============================] - 17s 2s/step - loss: 0.6097 - acc: 0.6923 - val_loss: 17.4339 - val_acc: 0.5738\n",
      "Epoch 5/15\n",
      "9/9 [==============================] - 17s 2s/step - loss: 0.4518 - acc: 0.8095 - val_loss: 11.5462 - val_acc: 0.6557\n",
      "Epoch 6/15\n",
      "9/9 [==============================] - 17s 2s/step - loss: 0.4371 - acc: 0.8022 - val_loss: 4.9653 - val_acc: 0.6557\n",
      "Epoch 7/15\n",
      "9/9 [==============================] - 16s 2s/step - loss: 0.3635 - acc: 0.8388 - val_loss: 3.2380 - val_acc: 0.6885\n",
      "Epoch 8/15\n",
      "9/9 [==============================] - 16s 2s/step - loss: 0.3274 - acc: 0.8718 - val_loss: 1.3401 - val_acc: 0.8689\n",
      "Epoch 9/15\n",
      "9/9 [==============================] - 17s 2s/step - loss: 0.2238 - acc: 0.9194 - val_loss: 1.4374 - val_acc: 0.9180\n",
      "Epoch 10/15\n",
      "9/9 [==============================] - 16s 2s/step - loss: 0.1644 - acc: 0.9304 - val_loss: 0.7861 - val_acc: 0.9508\n",
      "Epoch 11/15\n",
      "9/9 [==============================] - 17s 2s/step - loss: 0.2046 - acc: 0.9231 - val_loss: 0.2216 - val_acc: 0.9508\n",
      "Epoch 12/15\n",
      "9/9 [==============================] - 16s 2s/step - loss: 0.2332 - acc: 0.9158 - val_loss: 0.2266 - val_acc: 0.9508\n",
      "Epoch 13/15\n",
      "9/9 [==============================] - 17s 2s/step - loss: 0.1940 - acc: 0.9304 - val_loss: 0.3641 - val_acc: 0.9508\n",
      "Epoch 14/15\n",
      "9/9 [==============================] - 17s 2s/step - loss: 0.1528 - acc: 0.9414 - val_loss: 0.5805 - val_acc: 0.9508\n",
      "Epoch 15/15\n",
      "9/9 [==============================] - 17s 2s/step - loss: 0.1534 - acc: 0.9451 - val_loss: 0.2939 - val_acc: 0.9180\n"
>>>>>>> 53d8a6e771ee8004e5b3b853fbd1c7e34a6ee573
     ]
    }
   ],
   "source": [
    "# Fit the model\n",
    "\n",
    "history = model.fit(train_generator,\n",
    "                    epochs=NUM_EPOCHS,\n",
    "                    validation_data=val_generator)"
   ]
  },
  {
   "cell_type": "markdown",
   "id": "e07c7169",
   "metadata": {},
   "source": [
    "## Evaluate Model\n",
    "\n",
    "### Architecture"
   ]
  },
  {
   "cell_type": "code",
<<<<<<< HEAD
   "execution_count": 7,
=======
   "execution_count": 17,
>>>>>>> 53d8a6e771ee8004e5b3b853fbd1c7e34a6ee573
   "id": "07c65b38",
   "metadata": {},
   "outputs": [
    {
     "name": "stdout",
     "output_type": "stream",
     "text": [
      "Model: \"sequential\"\n",
      "_________________________________________________________________\n",
      " Layer (type)                Output Shape              Param #   \n",
      "=================================================================\n",
      " resizing (Resizing)         (None, 224, 224, None)    0         \n",
      "                                                                 \n",
      " resnet50 (Functional)       (None, 7, 7, 2048)        23587712  \n",
      "                                                                 \n",
      " flatten (Flatten)           (None, 100352)            0         \n",
      "                                                                 \n",
      " dense (Dense)               (None, 512)               51380736  \n",
      "                                                                 \n",
      " dropout (Dropout)           (None, 512)               0         \n",
      "                                                                 \n",
      " batch_normalization (BatchN  (None, 512)              2048      \n",
      " ormalization)                                                   \n",
      "                                                                 \n",
      " dense_1 (Dense)             (None, 256)               131328    \n",
      "                                                                 \n",
      " dropout_1 (Dropout)         (None, 256)               0         \n",
      "                                                                 \n",
      " batch_normalization_1 (Batc  (None, 256)              1024      \n",
      " hNormalization)                                                 \n",
<<<<<<< HEAD
      "                                                                 \n",
      " dense_2 (Dense)             (None, 128)               32896     \n",
      "                                                                 \n",
      " dropout_2 (Dropout)         (None, 128)               0         \n",
      "                                                                 \n",
      " batch_normalization_2 (Batc  (None, 128)              512       \n",
      " hNormalization)                                                 \n",
      "                                                                 \n",
      " dense_3 (Dense)             (None, 64)                8256      \n",
      "                                                                 \n",
      " dropout_3 (Dropout)         (None, 64)                0         \n",
      "                                                                 \n",
=======
      "                                                                 \n",
      " dense_2 (Dense)             (None, 128)               32896     \n",
      "                                                                 \n",
      " dropout_2 (Dropout)         (None, 128)               0         \n",
      "                                                                 \n",
      " batch_normalization_2 (Batc  (None, 128)              512       \n",
      " hNormalization)                                                 \n",
      "                                                                 \n",
      " dense_3 (Dense)             (None, 64)                8256      \n",
      "                                                                 \n",
      " dropout_3 (Dropout)         (None, 64)                0         \n",
      "                                                                 \n",
>>>>>>> 53d8a6e771ee8004e5b3b853fbd1c7e34a6ee573
      " batch_normalization_3 (Batc  (None, 64)               256       \n",
      " hNormalization)                                                 \n",
      "                                                                 \n",
      " dense_4 (Dense)             (None, 2)                 130       \n",
      "                                                                 \n",
      "=================================================================\n",
      "Total params: 75,144,898\n",
      "Trainable params: 51,555,266\n",
      "Non-trainable params: 23,589,632\n",
      "_________________________________________________________________\n"
     ]
    }
   ],
   "source": [
    "model.summary()"
   ]
  },
  {
   "cell_type": "code",
<<<<<<< HEAD
   "execution_count": 8,
=======
   "execution_count": 18,
>>>>>>> 53d8a6e771ee8004e5b3b853fbd1c7e34a6ee573
   "id": "324587c7",
   "metadata": {},
   "outputs": [
    {
     "data": {
<<<<<<< HEAD
      "image/png": "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\n",
=======
      "image/png": "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\n",
>>>>>>> 53d8a6e771ee8004e5b3b853fbd1c7e34a6ee573
      "text/plain": [
       "<Figure size 432x288 with 1 Axes>"
      ]
     },
     "metadata": {
      "needs_background": "light"
     },
     "output_type": "display_data"
    }
   ],
   "source": [
    "# Visualize loss curve\n",
    "\n",
    "losses = history.history['val_loss']\n",
    "plt.plot(losses)\n",
    "plt.xlabel('Training Step')\n",
    "plt.ylabel('Validation Cross Entropy Loss')\n",
    "plt.title('Validation Loss')\n",
    "plt.show()"
   ]
  },
  {
   "cell_type": "code",
<<<<<<< HEAD
   "execution_count": 9,
=======
   "execution_count": 19,
>>>>>>> 53d8a6e771ee8004e5b3b853fbd1c7e34a6ee573
   "id": "396e04b1",
   "metadata": {},
   "outputs": [
    {
     "data": {
<<<<<<< HEAD
      "image/png": "iVBORw0KGgoAAAANSUhEUgAAAYIAAAEWCAYAAABrDZDcAAAAOXRFWHRTb2Z0d2FyZQBNYXRwbG90bGliIHZlcnNpb24zLjUuMSwgaHR0cHM6Ly9tYXRwbG90bGliLm9yZy/YYfK9AAAACXBIWXMAAAsTAAALEwEAmpwYAAAvQElEQVR4nO3dd3zV9fXH8ddhyyYQCLJBNsoQGe4tOIqjdeJsta6qrbXL0VZ/tlZbrW2to9aNuAdVQeJCcbGREPYOkMGGQMg6vz/uN3iNGZeQm5vc+34+Hnkk33G/951LuOd+1/mYuyMiIomrXqwDiIhIbKkQiIgkOBUCEZEEp0IgIpLgVAhERBKcCoGISIJTIZBazczczA4Jfn7MzO6MZN0qPM8lZja1qjlF6jIVAokqM3vfzO4uY/44M8s0swaRbsvdr3X3e6ohU/egaOx7bnef4O6nHui2K3jOHmZWbGb/jtZziFSVCoFE2zPApWZmpeZfCkxw98KajxQTlwFbgQvNrHFNPrGZ1a/J55O6R4VAou0tIAk4pmSGmbUBzgSeM7MRZvalmW0zs41m9i8za1TWhszsGTP7v7Dp24LHbDCzq0qte4aZzTWzHWa2zsz+ELb40+D7NjPbZWajzewKM5se9vgjzWymmW0Pvh8ZtuwTM7vHzD43s51mNtXM2lXyOlwG3AEUAGeVyjrOzOYFWVeY2ZhgfpKZPR38flvN7K1g/neyBvPCD6E9Y2aPmtl7ZpYLnFDJ64GZHW1mXwT/DuuC5zjCzLLC95zM7Dwzm1fJ7yp1jAqBRJW77wFeIfRGWOJ8YLG7zweKgJ8D7YDRwEnA9ZVtN3iz/CVwCtAbOLnUKrnBc7YGzgCuM7Ozg2XHBt9bu3tzd/+y1LaTgHeBfwBtgQeBd82sbdhqFwNXAu2BRkGW8rIeA3QGXqLUa2FmI4DngNuCrMcCq4PFzwNNgYHB8zxU3nOU4WLgXqAFMJ0KXg8z6wpMBv4JJANDgHnuPhPYTOg1LjE+yCVxRIVAasKzwI/M7KBg+rJgHu4+292/cvdCd18NPA4cF8E2zweedvc0d88F/hC+0N0/cfcF7l7s7t8AEyPcLoTeKJe5+/NBronAYr77Sf5pd18aVuiGVLC9y4HJ7r4VeBEYa2btg2U/Bp5y99Qg63p3X2xmHYGxwLXuvtXdC9x9WoT5Ad5298+DbeZV8npcAnzg7hOD59ns7vOCZc8SevMvKZCnBb+DxBEVAok6d58O5ADjzKwncATBm4mZ9TGzd4ITxzuAPxHaO6jMwcC6sOk14QvNbKSZfWxmOWa2Hbg2wu2WbHtNqXlrgE5h05lhP+8Gmpe1oaD4/QiYABDsfawl9IkdoAuwooyHdgG2BMWjKsJfm8pej/IyALwAnGVmzQkV38/cfWMVM0ktpUIgNeU5QnsClwJT3T0rmP8ooU/bvd29JfA7oPSJ5bJsJPQGVqJrqeUvApOALu7eCngsbLuVtdzdAHQrNa8rsD6CXKWdA7QE/h0Uu0xCBaXk8NA6oFcZj1sHJJlZ6zKW5RI6ZASAmaWUsU7p37Gi16O8DLj7euDL4Pe4FB0WiksqBFJTniN0HP9qgsNCgRbADmCXmfUDrotwe68AV5jZADNrCvy+1PIWhD5R5wXH4S8OW5YDFAM9y9n2e0AfM7vYzBqY2QXAAOCdCLOFuxx4CjiU0OGjIcBRwBAzOxT4L3ClmZ1kZvXMrJOZ9Qs+dU8mVEDamFlDMys5tzEfGGhmQ8ysCaUOi5WjotdjAnCymZ0f/L5tzWxI2PLngF8Fv8ObVXgNpJZTIZAaERz//wJoRuiTaYlfEnpT2gn8B3g5wu1NBv4OfAQsD76Hux6428x2AncRKhwlj91N6ETq58FVMqNKbXszoauabiV0svRXwJnuvimSbCXMrBOhk99/d/fMsK/ZwBTgcnefQeik80PAdmAa3+6NXEroKqPFQDZwS5BvKXA38AGwjNDJ4MpU9HqsBU4Pft8twDxgcNhj3wwyvRmcj5E4YxqYRkQqY2YrgJ+6+wexziLVT3sEIlIhMzuP0DmH0ntdEicivr1fRBKPmX1C6PzIpe5eHOM4EiU6NCQikuB0aEhEJMHVuUND7dq18+7du8c6hohInTJ79uxN7p5c1rI6Vwi6d+/OrFmzYh1DRKROMbPSd8vvo0NDIiIJToVARCTBqRCIiCQ4FQIRkQSnQiAikuBUCEREEpwKgYhIgqtz9xGIJJJVm3KZNG8DRcXV3+anQ6smnDKgA+1bNKn2bVcXd2fB+u3MWLWF84Z1pk2zRrGOVKmvVm5mzeZcTurfgXbNG8c6TkRUCERqocKiYp6cvoqHUpeyt7AYi2TMtv1Q0mLsjrfSGN6tDWMGdWTMoBQ6tT6o4gfWgOJiZ87arUxOy2RKWibrt+0B4LXZGbzwk5G1+s11StpGbnxxLoXFTj1bwBHdkxg7KIUxgzqS0qr2Ftw613Ru+PDhrjuLJZ6lb9jBr1//hgXrt3PawA7cM24Q7VtW75uIu7MsexeTF2QyOW0jizN3AjC4S2vGDkph7KAUurVtVq3PWZHComJmrNrC5LRM3l+YSfbOvTSqX4+je7djzKAUWjZpyC0vz6VLm6ZM+MnIan89qsOk+Rv4+cvzGNy5FbefMYBpS7KZnJbJsuxdAAzr2pqxQcHtktS0kq1VPzOb7e7Dy1ymQiBSO+wtLOJfHy3n0U9W0LppQ+4eN4ixg1Kw6t4dKMOqTblMSQsVhW8ytgPQv2PLfUWhd4cW1f6c+YXFfLFiE1PSMpmansWW3HyaNKzH8X3aM/bQFE7s154WTRruW/+rlZu56pmZpLRswotXj6pVn7Bfn53Bba/NZ3j3JJ664giaN/72YMvy7F1MSdvI5LRMFm7YAcCgTi33FYVeyc1rJKMKgUgtN3vNVn79+jcsz97FucM6cecZA2J2PDxj626mBIdlZq/dijv0Sm7G2EEdGXtoCgM6tqxyccorKOLTpTlMScvkg0VZ7MgrpHnjBpzYrz1jB6VwXN9kmjYq/4j1rNVbuOLpmSQ1a8SLV4+kc5ua/2Rd2ssz1/KbNxYwumdbnrx8eIX5127ezeSgKMxbtw2APh2aM2ZQR04/NIW+HVpErfCrEIjUUrl7C/nr1CU888VqDm51EPeeM4jj+7aPdax9snfk8f7CTCanZfLVys0UO3RNahoc905hSJfWlb5x5e4t5JMlOUxO28jHi7PJzS+i1UENObl/B8YOSuHo3u1o0rB+xJnmrt3KZU/NoGWThky8ehRd28auGDz/5WrufHshx/VJ5vFLD9+v32PDtj37XtuZq7fgDj3aNWNMsBd2aKdW1VoUVAhEaqHPluXw2zcWkLF1D5eN7savxvT7ziGF2mbzrr2kpmcxOS2TL1ZsoqDI6diqCacNDL1xDe+eRP16oTeuHXkFfLgoi8kLMpm2NIe9hcW0a96IUwaE1h3dqy0N61f96vW09dsZ/9+vOahhfV68ehQ92tXc+YwS/52+inveSefk/u155JJhNG4QeREoLXtnHlMXZjElLZMvV26mqNjp1PqgfUVhWNc21Kt3YEVBhUCkFtm+u4B730vnlVkZ9GzXjPvOO4wRPZJiHWu/bN8TvNGnhd7o8wuLade8MacMaE/m9jymLw8VipSWTRgT7D0cEVYoqsOijTu45MmvqV/PmHj1SA5pX/3nMcrz2LQV3Dd5MWMHpfDwhUNp1KD6bsnamptP6qJQUZi+bBP5RcW0b9GY0wamcO6wTgzt2qZK21UhEKklpqRlcufbaWzJzeeaY3ty80m99+twQm2Uu7eQj5dkM3lBJh8vyaZt80b7ToQO6dz6gD/JVmRp1k4u/s/XuDsTrh5Jv5SWUXuuEv/4cBkPpi7lrMEH89D5g2lwAHs2ldmRV8BHi7KZnLaRaUtzuObYXvzilD5V2pYKgUiM5ezcyx8mLeTdBRsZ0LEl9//wMAZ1ahXrWNWuuNgxo0audCqxImcXF//nK/ILi3n+xyOj9rq6Ow+mLuWfHy3n3KGdeOBHg6t1D6cyu/MLKSh0WjVtWPnKZaioEKjFhEgUuTuvz87g5Aenkbooi9tO68vbNx4Vl0UAoF49q9EiANAruTmv/HQ0TRs14OL/fMX84Gqc6uTu3Dd5Mf/8aDkXDO9S40UAoGmjBlUuApVRIRCJkoytu7n86Znc+up8DmnfnPduOoYbTjjkgE6SStm6tW3GS9eMolXThox/8mtmr9lSbdt2d+5+J53HP13J+FFd+fO5h9Z4EYg2/UWKVLPiYue5L1dz2kOfMmv1Fv74g4G8+tPRHNK+Zm4cSlRdkpry8jWjadeiMZf+dwZfr9x8wNssLnbufDuNpz9fzVVH9eCecYOies4jVlQIRKrRipxdXPDEl9z19kKGdWvD+7ccy+VHdo/LN4/a6ODWB/HyNaPo2KoJlz89g8+Xb6rytoqKnd++sYAXvlrLtcf14s4z+9f4Ya+aokIgUg3cnUc/WcHYhz9jadYu/vqjwTx31YiY9JRJdO1bNuGla0bTLakZVz0zk0+WZO/3NgqLirnt1fm8PGsdN514CL8e0zduiwCoEIhUiyc+XclfpizmxL7tSf3Fsfzw8M5x/cZR2yW3aMzEa0bRK7k51zw3mw/SsyJ+bEFRMbe8PI835q7n1lP68ItT47sIgAqByAH7euVm7n9/CacfmsKj44fV6v7+iaSkH1G/ji249oXZTEnbWOlj8guLufHFObzzzUZ+O7YfPzupdw0kjT0VApEDkL0jjxsnzqVbUlP+ct5hcf/Jsa5p3bQRL/xkJId1bsUNL85l0vwN5a67t7CI616YzfsLs7jrzAH89LheNZg0tlQIRKqosKiYGyfOZWdeAf8eP+w7LZOl9mjZpCHP/Xgkh3drwy0vzeWNORnfWyevoIirn5vNh4uz+b+zB3HV0T1ikDR2VAhEquiBqUuYsWoLfzrn0BppbSBV17xxA5658ghG9WzLra/O55WZ6/Yt251fyFXPzOSzZTncf95hjB/VLYZJY0OFQKQKpi7M5PFpK7l4ZFfOHdY51nEkAk0bNeCpK47gmN7J/Or1b3j+qzXs2lvIFU/N5KuVm/nbjwZz/hFdYh0zJtRrSGQ/rdmcy5n/nE6Pds145aej63zTuESTV1DEDRPm8OHibLomNWX9tj38/YIhnDX44FhHiyr1GhKpJnkFRVz7whzqmfHIxcNUBOqgJg3r8+j4wxkzMIWN2/fwyMVD474IVKb2joIhUgvd+VYaizbu4OkrjtDNYnVYowb1eHT8MLbvKaB109gMCVqbaI9AJEIvz1zLq7Mz+NmJh3BCv9oznKRUjZmpCARUCEQikLZ+O3e+vZCjD2nHLSdXbWAQkdpKhUCkEtv3FHD9hDkkNW3EwxcOibsWxCJRLQRmNsbMlpjZcjP7TRnL25jZm2b2jZnNMLNB0cwjsr+Ki51bX5nPhm17eOSSYbRt3jjWkUSqXdQKgZnVBx4BxgIDgIvMbECp1X4HzHP3w4DLgIejlUekKh7/dCUfLMrid6f35/BuVRs0XKS2i+YewQhgubuvdPd84CVgXKl1BgAfArj7YqC7mXWIYiaRiH25YjMPvL+YMw7ryJVHdY91HJGoiWYh6ASsC5vOCOaFmw+cC2BmI4BuwPdu0zSza8xslpnNysnJiVJckW9l78jjZxPn0r1dMzWTk7gXzUJQ1v+c0rcx3we0MbN5wM+AuUDh9x7k/oS7D3f34cnJydUeVCRcQVExN744l9y9hTw2/nCaN9btNhLfovkXngGEN+7oDHynB6y77wCuBLDQR65VwZdIzDzw/hJmrN7CwxcOoU+HFrGOIxJ10dwjmAn0NrMeZtYIuBCYFL6CmbUOlgH8BPg0KA4iMTElLZMnPl3JpaO6MW5I6SOZIvEpansE7l5oZjcC7wP1gafcfaGZXRssfwzoDzxnZkVAOvDjaOURqcyqTbnc9up8BndpzR1n9o91HJEaE9WDn+7+HvBeqXmPhf38JZAYY8FJrbYnPzQ6Vf36xiMXD6VxAzWTk8Shs2CS8NydO95KY0nWTp6+4gg6t1EzOUksajEhCe+lmet4fU4GPzuxN8f3VTM5STwqBJLQ0tZv5/eTFnJM73bcfJKOUkpiUiGQhLV9dwHXvjCbds0a8fCFQ9VMThKWzhFIQioudn7xyjyyduTxyk9Hk9RMfeklcWmPQBLSo9NW8OHibO44YwBDu6qZnCQ2FQJJOF+s2MTfpi7hrMEHc9nobrGOIxJzKgSSULJ25HHTxLn0TG7OfeceqmZyIugcgSSQgqJibpgwh935RUy8ehjN1ExOBFAhkATyl8mLmbVmK/+4aCi91UxOZB8dGpKEMHnBRp6cvorLR3fjB4MPjnUckVpFhUDi3sqcXdz22jcM6dKa288oPVqqiKgQSFzbnV/IdS/MoWF945FLhtGogf7kRUrTOQKJW+7OHW+msTR7J89eOYJOrQ+KdSSRWkkfjyRuvThjLW/MXc/NJ/Xm2D4a4lSkPCoEEpe+ydjGHyelc2yfZG46Uc3kRCpSaSEws6SaCCJSXbbtzue6F+bQrnkj/n7BEOqpmZxIhSLZI/jazF41s9NNt2FKLVdc7Pz85Xlk78zj3+MPVzM5kQhEUgj6AE8AlwLLzexPZtYnurFEqubfnyzn4yU53HXmAIZ0aR3rOCJ1QqWFwENS3f0i4CfA5cAMM5tmZqOjnlAkQp8v38SDqUsZN+Rgxo9SMzmRSFV6+aiZtQXGE9ojyAJ+BkwChgCvAj2imE8kIhu37+GmiXPpldycP6uZnMh+ieQ+gi+B54Gz3T0jbP4sM3ssOrFEIpdfGGoml1dQxKPjD6dpI90eI7I/Ivkf09fdvawF7v6Xas4jst/+PHkRc9Zu418XD+WQ9s1jHUekzonkZPFUM2tdMmFmbczs/ehFEoncO99s4OnPV3PFkd058zA1kxOpikgKQbK7byuZcPetQPuoJRKJ0PLsXfz6tW8Y1rU1vzu9f6zjiNRZkRSCIjPrWjJhZt2AMg8VidSU3fmFXD9hNo0b1lczOZEDFMk5gtuB6WY2LZg+FrgmepFEKubu/O6NBSzL3sVzV42gYys1kxM5EJUWAnefYmbDgFGAAT93901RTyZSjhe+Xstb8zbwi1P6cExvNZMTOVCRXmdXBGQDTYABZoa7fxq9WCJlm79uG/f8L53j+yZz4wmHxDqOSFyI5IaynwA3A52BeYT2DL4EToxqMpFStubmc/2EOSS3aMxD56uZnEh1ieQM283AEcAadz8BGArkRDWVSCnFxc4tL88jZ+de/n3JMNqomZxItYmkEOS5ex6AmTV298VA3+jGEvmuf360nGlLc7jzrAEMVjM5kWoVyTmCjOCGsreAVDPbCmyIZiiRcJ8uzeHvHy7l7CEHM35k18ofICL7JZKrhs4JfvyDmX0MtAKmRDWVSGDDtj3c/NJcerdvzp/UTE4kKio8NGRm9cwsrWTa3ae5+yR3z49k42Y2xsyWmNlyM/tNGctbmdn/zGy+mS00syv3/1eQeJVfWMz1E+aQX1isZnIiUVRhIXD3YmB++J3FkTKz+sAjwFhgAHCRmQ0otdoNQLq7DwaOB/5mZjoLKAD8deoS5q3bxv0/HEyvZDWTE4mWSD5idQQWmtkMILdkprv/oJLHjQCWu/tKADN7CRgHpIet40CLYAjM5sAWoDDy+BKvFm7Yzn+nr+KiEV0447COsY4jEtciKQR/rOK2OwHrwqYzgJGl1vkXoUFuNgAtgAuCvZDvMLNrCNpadO2qk4XxrrjYuf3NNFof1JDfjFEzOZFoi+Rk8bTK1ilHWWf1SjerO43QTWonAr0IXZX0mbvvKJXhCULjJjN8+HA1vItzE2euZd66bTx4/mBaNW0Y6zgica/S+wjMbKeZ7Qi+8sysyMx2VPY4QnsAXcKmO/P9y06vBN4IxkVeDqwC+kUaXuLPpl17+cvkxYzqmcQ5QzvFOo5IQohkj6BF+LSZnU3o+H9lZgK9zawHsB64ELi41DprgZOAz8ysA6Eb1VZGsG2JU396dxF7Cor4v7N1qahITdnvJu7u/hYR9Bly90LgRuB9YBHwirsvNLNrzezaYLV7gCPNbAHwIfBrdTZNXF+s2MQbc9fz02N7achJkRoUSdO5c8Mm6wHDiXBgGnd/D3iv1LzHwn7eAJwaUVKJa3sLi7jjrTS6JjXlxhPVVVSkJkVy1dBZYT8XAqsJXQYqUm3+8+lKVubk8vSVR9CkYf1YxxFJKJGcI9DdvhJVazfv5p8fLef0Q1M4oa+GwxapaZFcNfRs0HSuZLqNmT0V1VSSMNydO99Oo0E9464zB8Y6jkhCiuRk8WHuvq1kwt23EhqTQOSATU7LZNrSHG49tS8prZrEOo5IQoqkENQzszYlE2aWRORDXIqUa2deAX/830IGdGzJZaO7xTqOSMKK5A39b8AXZvYaoauFzgfujWoqSQgPpS4je+deHht/OA3q7/eVzCJSTSI5Wfycmc0idO+AAee6e3olDxOpUNr67TzzxSouGdmVoV3bVP4AEYmaSO4jGAUsdPd/BdMtzGyku38d9XQSl4qKndvfSiOpWSNuO00dRURiLZL98UeBXWHTucE8kSqZOGMt89dt444zBtDqIDWVE4m1SAqBufu+O4mDNtE6WSxVkrNzL3+Zspgje7Vl3JCDYx1HRIisEKw0s5vMrGHwdTNqDCdVdO+76ewtKOaeswepqZxILRFJIbgWOJJQB9GSwWWujmYoiU9fLN/EW/M2cO1xPTX0pEgtEslVQ9mEWkgDYGYHAWcCr0Yxl8SZkqZy3do25foT1FROpDaJ6OJtM6tvZmPN7DlCg8dcEN1YEm8en7aSlZtyuXvcIDWVE6llKtwjMLNjCQ0mcwYwAzgK6Onuu2sgm8SJ1Zty+dfHyznjsI4c1yc51nFEpJRyC4GZZRAaQexR4DZ332lmq1QEZH+UNJVrVL8ed505INZxRKQMFR0aeh3oROgw0Flm1owIB6QRKfHugo18tmwTt57ahw4t1VROpDYqtxC4+81Ad+BB4ARgKZBsZuebmS75kErtzCvg7v+lM6hTSy4dpaZyIrVVhSeLPeQjd7+aUFG4GDib0ChlIhX629Sl5Ozay71nH6qmciK1WMR3CLt7AfA/4H/BJaQi5Upbv53nvlzNpaO6MbhL61jHEZEKVOljmrvvqe4gEj+Kip3b31xAUrPG3Hpq31jHEZFKaH9dqt2LX69hfsZ27jyzv5rKidQBKgRSrbJ35nH/lCUcfUg7fjBYTeVE6oJIxiPoA9wGdAtf391PjGIuqaPufXcRewuLuXvcQDWVE6kjIjlZ/CrwGPAfoCi6caQum75sE2/P28DNJ/Wmp5rKidQZkRSCQnfXQDRSobyCIu58O43ubZty3fG9Yh1HRPZDJOcI/mdm15tZRzNLKvmKejKpUx6ftpJVm3K552w1lROpayLZI7g8+H5b2DwHelZ/HKmL1mzO5ZFPlnPW4IM5preayonUNZGMR9CjJoJI3fXKrHUUFTt3nNE/1lFEpAoiuWqoIXAdcGww6xPg8eBOYxFS07MY0T1JTeVE6qhIzhE8ChwO/Dv4OjyYJ8KazbkszdrFyQM6xDqKiFRRJOcIjnD3wWHTH5nZ/GgFkrolNT0LgFNVCETqrEj2CIrMbN/1gGbWE91PIIHU9Cz6pbSgS1LTWEcRkSqKZI/gNuBjM1sJGKE7jK+MaiqpE7bm5jNz9RZu0GD0InVaJFcNfWhmvYG+hArBYnffG8nGzWwM8DBQH3jS3e8rtfw24JKwLP2BZHffEvmvILHy0eJsih1O0WEhkTqtojGLT3T3j8zs3FKLepkZ7v5GRRs2s/rAI8ApQAYw08wmuXt6yTru/gDwQLD+WcDPVQTqjtT0LDq0bMyhnVrFOoqIHICK9giOAz4CzipjmQMVFgJgBLDc3VcCmNlLwDggvZz1LwImVrJNqSXyCor4dFkO5wztpOZyInVcuYXA3X8f/Hi3u68KX2Zmkdxk1glYFzadAYwsa0UzawqMAW4sZ/k1wDUAXbt2jeCpJdq+XLGZ3flFOiwkEgciuWro9TLmvRbB48r6mOjlrHsW8Hl5h4Xc/Ql3H+7uw5OT1cKgNpiankXzxg0Y3attrKOIyAGq6BxBP2Ag0KrUeYKWQCS3kGYAXcKmOwMbyln3QnRYqM4oLnY+WJTFcX2SadxADeZE6rqKzhH0Bc4EWvPd8wQ7gasj2PZMoHdwGGk9oTf7i0uvZGatCJ2PGB9ZZIm1+RnbyNm5V4eFROJERecI3gbeNrPR7v7l/m7Y3QvN7EbgfUKXjz7l7gvN7Npg+WPBqucAU909d//jSyykpmdRv55xQt/2sY4iItUgkhvK5prZDYQOE+07JOTuV1X2QHd/D3iv1LzHSk0/AzwTQQ6pJUqazLVqqoHpReJBJCeLnwdSgNOAaYSO9e+MZiipvVZvymVZ9i4dFhKJI5EUgkPc/U4g192fBc4ADo1uLKmtPlgUajKnQiASPyIpBCXjDmwzs0FAK6B71BJJrTZVTeZE4k4kheAJM2sD3AlMInRn8P1RTSW10pbcfGat3qKW0yJxJpKmc08GP05D4xQntG+bzKXEOoqIVKOKbij7RUUPdPcHqz+O1Gap6ZmktGzCoE4tYx1FRKpRRXsELYLvfYEjCB0WgtDNZZ9GM5TUPnkFRXy6dBPnHa4mcyLxpqIbyv4IYGZTgWHuvjOY/gPwao2kk1rjixWb2FNQpMNCInEokpPFXYH8sOl8dNVQwkkNmsyN6pkU6ygiUs0iubP4eWCGmb1JqHvoOcBzUU0ltUqoyVw2x/VVkzmReBTJVUP3mtlk4Jhg1pXuPje6saQ2mRc0mdNloyLxqaKrhlq6+w4zSwJWB18ly5I0pGTiKGkyd3wfNZkTiUcV7RG8SKgN9Wy+O6CMBdO6pyBBpKZnMbKHmsyJxKuKrho6M/geybCUEqdWbcplefYuLhmpIUJF4lVFh4aGVfRAd59T/XGktvkgXU3mROJdRYeG/lbBMgdOrOYsUgulpmfRv2NLOrdRkzmReFXRoaETajKI1D5bcvOZtWYLN57YO9ZRRCSKIrmPgKD99AC+O0KZ7iWIcx8uygo1meuvw0Ii8azSQmBmvweOJ1QI3gPGAtPRTWVxLzU9i46t1GROJN5F0mLih8BJQKa7XwkMBhpHNZXEXF5BEZ8t28TJ/TuoyZxInIukEOxx92Kg0MxaAtnoHoK49/nykiZzOiwkEu8iOUcwy8xaA/8hdHPZLmBGNENJ7KWmZ9GicQNG9Wwb6ygiEmUV3UfwL+BFd78+mPWYmU0BWrr7NzWSTmIivMlcowaR7DSKSF1W0R7BMuBvZtYReBmY6O7zaiSVxNTcddvYtGuvDguJJIhyP+65+8PuPho4DtgCPG1mi8zsLjPrU2MJpcalpmfRoJ5xfF81mRNJBJXu97v7Gnf/i7sPBS4mNB7Boqgnk5hJTc9kZM8kWh2kJnMiiaDSQmBmDc3sLDObAEwGlgLnRT2ZxMTKnF2syMnVTWQiCaSik8WnABcBZxC6Sugl4Bp3z62hbBIDHywKNZk7WecHRBJGRSeLf0doTIJfahCaxJGansUANZkTSShqOif7bN61l9lrtqrJnEiC0UXiss+Hi7MpdjQ2sUiCUSGQfVLTszi4VRMGHqwmcyKJRIVAANiTX8Rny3I4eYCazIkkGhUCAUJN5vIKinU3sUgCimohMLMxZrbEzJab2W/KWed4M5tnZgvNbFo080j5SprMjeyhJnMiiSaiEcqqwszqA48ApwAZwEwzm+Tu6WHrtAb+DYxx97Vmpp4GMVBU7Hy4OEtN5kQSVDT/148Alrv7SnfPJ3RD2rhS61wMvOHuawHcPTuKeaQc89ZtZdOufB0WEklQ0SwEnYB1YdMZwbxwfYA2ZvaJmc02s8vK2pCZXWNms8xsVk5OTpTiJq6pajInktCiWQjKuvTES003AA4n1MbiNODOsjqbuvsT7j7c3YcnJydXf9IEl5qexaiebdVkTiRBRbMQZABdwqY7AxvKWGeKu+e6+ybgU0JjIksNWZGzi5U5uTosJJLAolkIZgK9zayHmTUCLgQmlVrnbeAYM2tgZk2BkajFdY36IF1N5kQSXdSuGnL3QjO7EXgfqA885e4LzezaYPlj7r4oGP7yG6AYeNLd06KVSb6vpMlcp9YHxTqKiMRI1AoBgLu/B7xXat5jpaYfAB6IZg4p26Zde5m9dis3qcmcSELTReMJ7KNF2bij8wMiCU6FIIFNTc+iU+uD1GROJMGpECSoPflFTF+ew8n926vJnEiCUyFIUNP3NZlLiXUUEYkxFYIElZqeSYvGDRjRIynWUUQkxlQIElBRsfPhomyO79deTeZERIUgEc1du5XNuWoyJyIhKgQJKDU9i4b1jeP7qm+TiKgQJKSSJnMtm6jJnIioECScFTm7WLlJTeZE5FsqBAkmNWgyd1J/FQIRCVEhSDCp6VkMPFhN5kTkW1FtOie1w/Y9BXy0OIv3FmQyZ+1Wbj5JTeZE5FsqBHFqS24+qemZTE7L5PPlmygoclJaNuHy0d35yTE9Yx1PRGoRFYI4kr0jj/cXht78v161haJip0vSQVx5VA/GDEphSOfW1KunvkIi8l0qBHXc+m17mJKWyZS0jcxasxV36JncjOuO68WYQSkMPLilmsqJSIVUCOqg1ZtymRy8+c/P2A5Av5QW3HJSH8YemkLv9s315i8iEVMhqCOWZe1kclom7y3YyOLMnQAc1rkVvx7TjzGDUujRrlmME4pIXaVCUEu5Ows37GBKWiaT0zayIicXMzi8axvuOKM/Ywal0LlN01jHFJE4oEJwALJ35vHH/6Xz8eLsat92sTt5BcXUMxjZoy1XHNmd0wam0L5lk2p/LhFJbCoEVeDuvDY7g3veSSevsJgfHt6ZZo3qV/vz9EpuzikDOtC2eeNq37aISAkVgv20bstufvfmAj5btokjurfhvvMOo1dy81jHEhGpMhWCCBUXO899uZr731+CAfeMG8glI7vpunwRqfNUCCKwPHsnv359AbPXbOW4Psnce84gnagVkbihQlCBgqJinvh0JQ9/sIymjevz4PmDOWdoJ12jLyJxRYWgHGnrt3Pba9+waOMOzjisI384ayDJLXTSVkTijwpBKXkFRfz9g2X857OVJDVrxOOXHs5pA1NiHUtEJGpUCMLMWLWF37z+DSs35XLB8C787vT+tGqq4RxFJL6pEAA78wq4f8oSnv9qDZ3bHMQLPx7J0b3bxTqWiEiNSPhC8PGSbG5/YwEbd+Rx1VE9+OVpfWjaKOFfFhFJIAn7jrc1N5973knnjbnrOaR9c1679kgO79Ym1rFERGpcwhUCd+fdBRv5/dsL2b6ngJtOPIQbTjyExg2qv0WEiEhdkFCFIGtHHne+lcbU9CwO7dSKF34ykv4dW8Y6lohITCVMIfh4cTY3vTSX/MJifju2Hz8+ugcN6teLdSwRkZiL6juhmY0xsyVmttzMflPG8uPNbLuZzQu+7opWlh7tmjGsaxum3HIsPz2ul4qAiEggansEZlYfeAQ4BcgAZprZJHdPL7XqZ+5+ZrRylOjerhnPXjUi2k8jIlLnRPNj8QhgubuvdPd84CVgXBSfT0REqiCahaATsC5sOiOYV9poM5tvZpPNbGBZGzKza8xslpnNysnJiUZWEZGEFc1CUFaLTi81PQfo5u6DgX8Cb5W1IXd/wt2Hu/vw5OTk6k0pIpLgolkIMoAuYdOdgQ3hK7j7DnffFfz8HtDQzNTbQUSkBkWzEMwEeptZDzNrBFwITApfwcxSLGjub2Yjgjybo5hJRERKidpVQ+5eaGY3Au8D9YGn3H2hmV0bLH8M+CFwnZkVAnuAC9299OEjERGJIqtr77vDhw/3WbNmxTqGiEidYmaz3X14Wct0V5WISIKrc3sEZpYDrKniw9sBm6oxTrTVpbx1KSvUrbx1KSvUrbx1KSscWN5u7l7mZZd1rhAcCDObVd6uUW1Ul/LWpaxQt/LWpaxQt/LWpawQvbw6NCQikuBUCEREElyiFYInYh1gP9WlvHUpK9StvHUpK9StvHUpK0Qpb0KdIxARke9LtD0CEREpRYVARCTBJUwhqGy0tNrCzLqY2cdmtsjMFprZzbHOFAkzq29mc83snVhnqYiZtTaz18xscfAaj451poqY2c+Dv4M0M5toZk1inSmcmT1lZtlmlhY2L8nMUs1sWfC9TSwzlign6wPB38I3ZvammbWOYcTvKCtv2LJfmplXV5POhCgEYaOljQUGABeZ2YDYpipXIXCru/cHRgE31OKs4W4GFsU6RAQeBqa4ez9gMLU4s5l1Am4Chrv7IEI9uy6MbarveQYYU2reb4AP3b038GEwXRs8w/ezpgKD3P0wYCnw25oOVYFn+H5ezKwLoZEf11bXEyVEIaAOjZbm7hvdfU7w805Cb1RlDehTa5hZZ+AM4MlYZ6mImbUEjgX+C+Du+e6+LaahKtcAOMjMGgBNKdXKPdbc/VNgS6nZ44Bng5+fBc6uyUzlKSuru09198Jg8itC7fJrhXJeW4CHgF/x/fFdqixRCkGko6XVKmbWHRgKfB3jKJX5O6E/zOIY56hMTyAHeDo4jPWkmTWLdajyuPt64K+EPvltBLa7+9TYpopIB3ffCKEPNkD7GOeJ1FXA5FiHqIiZ/QBY7+7zq3O7iVIIIhktrVYxs+bA68At7r4j1nnKY2ZnAtnuPjvWWSLQABgGPOruQ4Fcas9hi+8Jjq2PA3oABwPNzGx8bFPFJzO7ndBh2QmxzlIeM2sK3A7cVd3bTpRCUOloabWJmTUkVAQmuPsbsc5TiaOAH5jZakKH3E40sxdiG6lcGUCGu5fsYb1GqDDUVicDq9w9x90LgDeAI2OcKRJZZtYRIPieHeM8FTKzy4EzgUtq+XgovQh9KJgf/H/rDMwxs5QD3XCiFIJKR0urLYIR2/4LLHL3B2OdpzLu/lt37+zu3Qm9rh+5e6381OrumcA6M+sbzDoJSI9hpMqsBUaZWdPg7+IkavHJ7TCTgMuDny8H3o5hlgqZ2Rjg18AP3H13rPNUxN0XuHt7d+8e/H/LAIYFf9cHJCEKQXAyqGS0tEXAK+6+MLapynUUcCmhT9bzgq/TYx0qjvwMmGBm3wBDgD/FNk75gj2X14A5wAJC/19rVUsEM5sIfAn0NbMMM/sxcB9wipktI3R1y32xzFiinKz/AloAqcH/tcdiGjJMOXmj81y1e09IRESiLSH2CEREpHwqBCIiCU6FQEQkwakQiIgkOBUCEZEEp0IgccPM2oZdcptpZuvDphtV8tjhZvaPCJ7ji2rK2tTMJpjZgqCz6HQzax50R72+Op5DJFK6fFTikpn9Adjl7n8Nm9cgrMFYTJnZb4Fkd/9FMN0XWA10BN4Juo2K1AjtEUhcM7NnzOxBM/sY+IuZjTCzL4Kmc1+U3GVsZseXjKVgZn8IesF/YmYrzeymsO3tClv/k7CxDSYEd/9iZqcH86ab2T+s7DEaOgLrSybcfYm77yV081WvYC/mgWB7t5nZzKBn/h+Ded2D53g2mP9a0ItGZL81iHUAkRrQBzjZ3YtKWlG7e6GZnUzozuLzynhMP+AEQnedLjGzR4N+P+GGAgMJ9a36HDjKzGYBjwfPsSq4O7QsTwFTzeyHhHr2P+vuywg1wRvk7kMAzOxUoDehVuoGTDKzYwm1n+gL/NjdPzezp4DrCXUrFdkv2iOQRPCquxcFP7cCXrXQqE8PEXojL8u77r7X3TcRaprWoYx1Zrh7hrsXA/OA7oQKyEp3XxWsU2YhcPd5hNpiPwAkATPNrH8Zq54afM0l1GqiH6HCALDO3T8Pfn4BOLqc30WkQtojkESQG/bzPcDH7n5OMN7DJ+U8Zm/Yz0WU/X+lrHXKanleJnffRaij6BtmVgycTqjrbDgD/uzuj39nZih76RN8OuEnVaI9Akk0rfj22PwVUdj+YqBn8EYNcEFZK5nZUcF4AwRXNA0A1gA7CR2OKvE+cFUwPgVm1snMSgZ66Wrfjrl8ETC9On8RSRwqBJJo7gf+bGafExoDuFq5+x5Cx+qnmNl0IAvYXsaqvYBpZraA0GGfWcDr7r4Z+Dy4pPSBYESyF4Evg3Vf49tCsQi4POikmgQ8Wt2/jyQGXT4qUs3MrLm77wquInoEWObuD1Xzc3RHl5lKNdEegUj1u9rM5gELCR2Kerzi1UViS3sEIiIJTnsEIiIJToVARCTBqRCIiCQ4FQIRkQSnQiAikuD+H4gnCg6FaW9jAAAAAElFTkSuQmCC\n",
=======
      "image/png": "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\n",
>>>>>>> 53d8a6e771ee8004e5b3b853fbd1c7e34a6ee573
      "text/plain": [
       "<Figure size 432x288 with 1 Axes>"
      ]
     },
     "metadata": {
      "needs_background": "light"
     },
     "output_type": "display_data"
    }
   ],
   "source": [
    "# Visualize accuracy\n",
    "\n",
    "losses = history.history['val_acc']\n",
    "plt.plot(losses)\n",
    "plt.xlabel('Training Step')\n",
    "plt.ylabel('Validation Accuracy')\n",
    "plt.title('Validation Accuracy')\n",
    "plt.show()"
   ]
  },
  {
   "cell_type": "code",
<<<<<<< HEAD
   "execution_count": 10,
=======
   "execution_count": 20,
>>>>>>> 53d8a6e771ee8004e5b3b853fbd1c7e34a6ee573
   "id": "15e11e1d",
   "metadata": {},
   "outputs": [
    {
     "data": {
      "text/html": [
       "<div>\n",
       "<style scoped>\n",
       "    .dataframe tbody tr th:only-of-type {\n",
       "        vertical-align: middle;\n",
       "    }\n",
       "\n",
       "    .dataframe tbody tr th {\n",
       "        vertical-align: top;\n",
       "    }\n",
       "\n",
       "    .dataframe thead th {\n",
       "        text-align: right;\n",
       "    }\n",
       "</style>\n",
       "<table border=\"1\" class=\"dataframe\">\n",
       "  <thead>\n",
       "    <tr style=\"text-align: right;\">\n",
       "      <th></th>\n",
       "      <th>loss</th>\n",
       "      <th>acc</th>\n",
       "      <th>val_loss</th>\n",
       "      <th>val_acc</th>\n",
       "    </tr>\n",
       "  </thead>\n",
       "  <tbody>\n",
       "    <tr>\n",
       "      <th>0</th>\n",
<<<<<<< HEAD
       "      <td>1.292531</td>\n",
       "      <td>0.549451</td>\n",
       "      <td>287.367981</td>\n",
       "      <td>0.508197</td>\n",
       "    </tr>\n",
       "    <tr>\n",
       "      <th>1</th>\n",
       "      <td>0.733455</td>\n",
       "      <td>0.611722</td>\n",
       "      <td>135.038361</td>\n",
       "      <td>0.540984</td>\n",
       "    </tr>\n",
       "    <tr>\n",
       "      <th>2</th>\n",
       "      <td>0.598762</td>\n",
       "      <td>0.714286</td>\n",
       "      <td>43.364395</td>\n",
       "      <td>0.540984</td>\n",
       "    </tr>\n",
       "    <tr>\n",
       "      <th>3</th>\n",
       "      <td>0.461402</td>\n",
       "      <td>0.783883</td>\n",
       "      <td>22.766764</td>\n",
       "      <td>0.557377</td>\n",
       "    </tr>\n",
       "    <tr>\n",
       "      <th>4</th>\n",
       "      <td>0.364534</td>\n",
       "      <td>0.860806</td>\n",
       "      <td>5.653857</td>\n",
       "      <td>0.721312</td>\n",
       "    </tr>\n",
       "    <tr>\n",
       "      <th>5</th>\n",
       "      <td>0.318695</td>\n",
       "      <td>0.882784</td>\n",
       "      <td>1.601317</td>\n",
       "      <td>0.803279</td>\n",
       "    </tr>\n",
       "    <tr>\n",
       "      <th>6</th>\n",
       "      <td>0.290114</td>\n",
       "      <td>0.886447</td>\n",
       "      <td>0.852470</td>\n",
       "      <td>0.868852</td>\n",
       "    </tr>\n",
       "    <tr>\n",
       "      <th>7</th>\n",
       "      <td>0.301528</td>\n",
       "      <td>0.882784</td>\n",
       "      <td>0.369157</td>\n",
       "      <td>0.934426</td>\n",
       "    </tr>\n",
       "    <tr>\n",
       "      <th>8</th>\n",
       "      <td>0.291444</td>\n",
       "      <td>0.871795</td>\n",
       "      <td>0.115387</td>\n",
       "      <td>0.967213</td>\n",
       "    </tr>\n",
       "    <tr>\n",
       "      <th>9</th>\n",
       "      <td>0.208136</td>\n",
       "      <td>0.908425</td>\n",
       "      <td>0.144896</td>\n",
       "      <td>0.967213</td>\n",
       "    </tr>\n",
       "    <tr>\n",
       "      <th>10</th>\n",
       "      <td>0.189804</td>\n",
       "      <td>0.937729</td>\n",
       "      <td>0.358777</td>\n",
=======
       "      <td>1.260844</td>\n",
       "      <td>0.531136</td>\n",
       "      <td>732.339172</td>\n",
       "      <td>0.557377</td>\n",
       "    </tr>\n",
       "    <tr>\n",
       "      <th>1</th>\n",
       "      <td>0.767656</td>\n",
       "      <td>0.615385</td>\n",
       "      <td>117.202438</td>\n",
       "      <td>0.508197</td>\n",
       "    </tr>\n",
       "    <tr>\n",
       "      <th>2</th>\n",
       "      <td>0.692809</td>\n",
       "      <td>0.641026</td>\n",
       "      <td>64.645821</td>\n",
       "      <td>0.508197</td>\n",
       "    </tr>\n",
       "    <tr>\n",
       "      <th>3</th>\n",
       "      <td>0.609692</td>\n",
       "      <td>0.692308</td>\n",
       "      <td>17.433874</td>\n",
       "      <td>0.573771</td>\n",
       "    </tr>\n",
       "    <tr>\n",
       "      <th>4</th>\n",
       "      <td>0.451766</td>\n",
       "      <td>0.809524</td>\n",
       "      <td>11.546233</td>\n",
       "      <td>0.655738</td>\n",
       "    </tr>\n",
       "    <tr>\n",
       "      <th>5</th>\n",
       "      <td>0.437102</td>\n",
       "      <td>0.802198</td>\n",
       "      <td>4.965349</td>\n",
       "      <td>0.655738</td>\n",
       "    </tr>\n",
       "    <tr>\n",
       "      <th>6</th>\n",
       "      <td>0.363469</td>\n",
       "      <td>0.838828</td>\n",
       "      <td>3.238041</td>\n",
       "      <td>0.688525</td>\n",
       "    </tr>\n",
       "    <tr>\n",
       "      <th>7</th>\n",
       "      <td>0.327429</td>\n",
       "      <td>0.871795</td>\n",
       "      <td>1.340139</td>\n",
       "      <td>0.868852</td>\n",
       "    </tr>\n",
       "    <tr>\n",
       "      <th>8</th>\n",
       "      <td>0.223773</td>\n",
       "      <td>0.919414</td>\n",
       "      <td>1.437438</td>\n",
       "      <td>0.918033</td>\n",
       "    </tr>\n",
       "    <tr>\n",
       "      <th>9</th>\n",
       "      <td>0.164384</td>\n",
       "      <td>0.930403</td>\n",
       "      <td>0.786063</td>\n",
       "      <td>0.950820</td>\n",
       "    </tr>\n",
       "    <tr>\n",
       "      <th>10</th>\n",
       "      <td>0.204561</td>\n",
       "      <td>0.923077</td>\n",
       "      <td>0.221638</td>\n",
>>>>>>> 53d8a6e771ee8004e5b3b853fbd1c7e34a6ee573
       "      <td>0.950820</td>\n",
       "    </tr>\n",
       "    <tr>\n",
       "      <th>11</th>\n",
<<<<<<< HEAD
       "      <td>0.202603</td>\n",
       "      <td>0.915751</td>\n",
       "      <td>0.208528</td>\n",
       "      <td>0.967213</td>\n",
       "    </tr>\n",
       "    <tr>\n",
       "      <th>12</th>\n",
       "      <td>0.148472</td>\n",
       "      <td>0.941392</td>\n",
       "      <td>0.359013</td>\n",
       "      <td>0.918033</td>\n",
       "    </tr>\n",
       "    <tr>\n",
       "      <th>13</th>\n",
       "      <td>0.136375</td>\n",
       "      <td>0.948718</td>\n",
       "      <td>0.240303</td>\n",
       "      <td>0.967213</td>\n",
       "    </tr>\n",
       "    <tr>\n",
       "      <th>14</th>\n",
       "      <td>0.180306</td>\n",
       "      <td>0.923077</td>\n",
       "      <td>0.173612</td>\n",
       "      <td>0.950820</td>\n",
=======
       "      <td>0.233212</td>\n",
       "      <td>0.915751</td>\n",
       "      <td>0.226584</td>\n",
       "      <td>0.950820</td>\n",
       "    </tr>\n",
       "    <tr>\n",
       "      <th>12</th>\n",
       "      <td>0.193967</td>\n",
       "      <td>0.930403</td>\n",
       "      <td>0.364052</td>\n",
       "      <td>0.950820</td>\n",
       "    </tr>\n",
       "    <tr>\n",
       "      <th>13</th>\n",
       "      <td>0.152779</td>\n",
       "      <td>0.941392</td>\n",
       "      <td>0.580476</td>\n",
       "      <td>0.950820</td>\n",
       "    </tr>\n",
       "    <tr>\n",
       "      <th>14</th>\n",
       "      <td>0.153370</td>\n",
       "      <td>0.945055</td>\n",
       "      <td>0.293880</td>\n",
       "      <td>0.918033</td>\n",
>>>>>>> 53d8a6e771ee8004e5b3b853fbd1c7e34a6ee573
       "    </tr>\n",
       "  </tbody>\n",
       "</table>\n",
       "</div>"
      ],
      "text/plain": [
       "        loss       acc    val_loss   val_acc\n",
<<<<<<< HEAD
       "0   1.292531  0.549451  287.367981  0.508197\n",
       "1   0.733455  0.611722  135.038361  0.540984\n",
       "2   0.598762  0.714286   43.364395  0.540984\n",
       "3   0.461402  0.783883   22.766764  0.557377\n",
       "4   0.364534  0.860806    5.653857  0.721312\n",
       "5   0.318695  0.882784    1.601317  0.803279\n",
       "6   0.290114  0.886447    0.852470  0.868852\n",
       "7   0.301528  0.882784    0.369157  0.934426\n",
       "8   0.291444  0.871795    0.115387  0.967213\n",
       "9   0.208136  0.908425    0.144896  0.967213\n",
       "10  0.189804  0.937729    0.358777  0.950820\n",
       "11  0.202603  0.915751    0.208528  0.967213\n",
       "12  0.148472  0.941392    0.359013  0.918033\n",
       "13  0.136375  0.948718    0.240303  0.967213\n",
       "14  0.180306  0.923077    0.173612  0.950820"
      ]
     },
     "execution_count": 10,
=======
       "0   1.260844  0.531136  732.339172  0.557377\n",
       "1   0.767656  0.615385  117.202438  0.508197\n",
       "2   0.692809  0.641026   64.645821  0.508197\n",
       "3   0.609692  0.692308   17.433874  0.573771\n",
       "4   0.451766  0.809524   11.546233  0.655738\n",
       "5   0.437102  0.802198    4.965349  0.655738\n",
       "6   0.363469  0.838828    3.238041  0.688525\n",
       "7   0.327429  0.871795    1.340139  0.868852\n",
       "8   0.223773  0.919414    1.437438  0.918033\n",
       "9   0.164384  0.930403    0.786063  0.950820\n",
       "10  0.204561  0.923077    0.221638  0.950820\n",
       "11  0.233212  0.915751    0.226584  0.950820\n",
       "12  0.193967  0.930403    0.364052  0.950820\n",
       "13  0.152779  0.941392    0.580476  0.950820\n",
       "14  0.153370  0.945055    0.293880  0.918033"
      ]
     },
     "execution_count": 20,
>>>>>>> 53d8a6e771ee8004e5b3b853fbd1c7e34a6ee573
     "metadata": {},
     "output_type": "execute_result"
    }
   ],
   "source": [
    "# Table of history\n",
    "\n",
    "hist_df = pd.DataFrame(history.history)\n",
    "hist_df"
   ]
  },
  {
   "cell_type": "code",
<<<<<<< HEAD
   "execution_count": 11,
=======
   "execution_count": 21,
>>>>>>> 53d8a6e771ee8004e5b3b853fbd1c7e34a6ee573
   "id": "82cf2209",
   "metadata": {},
   "outputs": [
    {
     "name": "stderr",
     "output_type": "stream",
     "text": [
      "2022-08-05 15:42:43.022898: W tensorflow/python/util/util.cc:368] Sets are not currently considered sequences, but this may change in the future, so consider avoiding using them.\n"
     ]
    },
    {
     "name": "stdout",
     "output_type": "stream",
     "text": [
      "INFO:tensorflow:Assets written to: /Users/johngalvin/Desktop/GitHub/Tensorflow/workspace/Lucy-Classification/models/assets\n"
     ]
    }
   ],
   "source": [
    "tf.saved_model.save(model, \"/Users/johngalvin/Desktop/GitHub/Tensorflow/workspace/Lucy-Classification/models/\")"
   ]
  },
  {
   "cell_type": "markdown",
   "id": "60829ed0",
   "metadata": {},
   "source": [
    "### Prepare Test Set"
   ]
  },
  {
   "cell_type": "code",
   "execution_count": 22,
   "id": "fb33d8ff",
   "metadata": {},
   "outputs": [
    {
     "name": "stdout",
     "output_type": "stream",
     "text": [
      "Found 24 images belonging to 2 classes.\n"
     ]
    }
   ],
   "source": [
    "# Preprocess the test images to expected shape\n",
    "\n",
    "test_datagen = ImageDataGenerator(preprocessing_function=preprocess_input)\n",
    "\n",
    "test_generator = test_datagen.flow_from_directory(\"../images/test/\",\n",
    "                                                    target_size=IMG_SIZE,\n",
    "                                                    batch_size=1,\n",
    "                                                    shuffle=True,\n",
    "                                                    class_mode=\"categorical\")"
   ]
  },
  {
   "cell_type": "markdown",
   "id": "91a2a797",
   "metadata": {},
   "source": [
    "### Test the Model"
   ]
  },
  {
   "cell_type": "code",
   "execution_count": 23,
   "id": "d510c690",
   "metadata": {},
   "outputs": [
    {
     "name": "stderr",
     "output_type": "stream",
     "text": [
      "2022-06-15 16:05:59.358601: I tensorflow/core/grappler/optimizers/custom_graph_optimizer_registry.cc:112] Plugin optimizer for device_type GPU is enabled.\n"
     ]
    }
   ],
   "source": [
    "# Generate predictions\n",
    "\n",
    "tf.keras.backend.clear_session()\n",
    "model = load_model(\"/Users/johngalvin/Desktop/GitHub/Tensorflow/workspace/Lucy-Classification/models/model.h5\")\n",
    "predictions = model.predict(test_generator)"
   ]
  },
  {
   "cell_type": "code",
   "execution_count": 24,
   "id": "56beb7b8",
   "metadata": {},
   "outputs": [
    {
     "name": "stderr",
     "output_type": "stream",
     "text": [
      "2022-06-15 16:06:03.120948: I tensorflow/core/grappler/optimizers/custom_graph_optimizer_registry.cc:112] Plugin optimizer for device_type GPU is enabled.\n"
     ]
    },
    {
     "name": "stdout",
     "output_type": "stream",
     "text": [
      "24/24 [==============================] - 2s 51ms/step - loss: 0.1695 - acc: 0.9583\n"
     ]
    },
    {
     "data": {
      "text/plain": [
       "[0.16945992410182953, 0.9583333730697632]"
      ]
     },
     "execution_count": 24,
     "metadata": {},
     "output_type": "execute_result"
    }
   ],
   "source": [
    "# Evaluate model\n",
    "\n",
    "model.evaluate(test_generator)"
   ]
  },
  {
   "cell_type": "code",
   "execution_count": null,
<<<<<<< HEAD
   "id": "85cea04e",
=======
   "id": "4a386439",
>>>>>>> 53d8a6e771ee8004e5b3b853fbd1c7e34a6ee573
   "metadata": {},
   "outputs": [],
   "source": []
  }
 ],
 "metadata": {
  "kernelspec": {
   "display_name": "Python 3 (ipykernel)",
   "language": "python",
   "name": "python3"
  },
  "language_info": {
   "codemirror_mode": {
    "name": "ipython",
    "version": 3
   },
   "file_extension": ".py",
   "mimetype": "text/x-python",
   "name": "python",
   "nbconvert_exporter": "python",
   "pygments_lexer": "ipython3",
   "version": "3.9.7"
  }
 },
 "nbformat": 4,
 "nbformat_minor": 5
}
